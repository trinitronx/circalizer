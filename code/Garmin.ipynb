{
 "cells": [
  {
   "cell_type": "code",
   "execution_count": null,
   "metadata": {},
   "outputs": [],
   "source": [
    "import pandas as pd\n",
    "import dask.dataframe as dd\n",
    "import hvplot.dask\n",
    "\n",
    "#import sys\n",
    "#print(sys.path)\n",
    "df = dd.read_parquet('data/sleep_2018-21.parquet', engine='pyarrow', parse_dates=['Sleep Start Local', 'Sleep End Local'])\n",
    "df.head()"
   ]
  },
  {
   "cell_type": "code",
   "execution_count": null,
   "metadata": {},
   "outputs": [],
   "source": [
    "from bokeh.models.formatters import DatetimeTickFormatter\n",
    "\n",
    "#formatter = DatetimeTickFormatter(days = ['%m/%d', '%a%d'])\n",
    "dtf = DatetimeTickFormatter( days = '%m-%Y', months = '%m-%Y' , years = '%m-%Y')\n",
    "#df.hvplot(xformatter=formatter, datashade=True)\n",
    "df.hvplot(xformatter=dtf, datashade=True)"
   ]
  },
  {
   "cell_type": "code",
   "execution_count": null,
   "metadata": {},
   "outputs": [],
   "source": [
    "\n",
    "#Chart: 'Deep Sleep Seconds' 'Light Sleep Seconds' 'Awake Seconds'\n",
    "sleep_time = df[['Sleep Start Local', 'Sleep End Local']]\n",
    "sleep_time.set_index('Sleep Start Local')\n",
    "sleep_time[['Deep Sleep Minutes', 'Light Sleep Minutes','Awake Minutes']] = df[['Deep Sleep Seconds', 'Light Sleep Seconds','Awake Seconds']].div(60, axis='columns')\n",
    "#sleep_time.head().violin(by='index.month')\n",
    "#sleep_time.hvplot.violin(by='index.month', x='Sleep Start Local', y=['Deep Sleep Minutes', 'Light Sleep Minutes', 'Awake Minutes'])\n",
    "sleep_time.hvplot.violin(by='index.day')"
   ]
  },
  {
   "cell_type": "code",
   "execution_count": null,
   "metadata": {},
   "outputs": [],
   "source": [
    "sleep_time[['Deep Sleep Hours', 'Light Sleep Hours']] = sleep_time[['Deep Sleep Minutes', 'Light Sleep Minutes']].div(60, axis='columns')\n",
    "\n",
    "avg_hours = sleep_time[['Sleep Start Local', 'Deep Sleep Hours', 'Light Sleep Hours']]\n",
    "avg_hours.set_index('Sleep Start Local', sorted=True)\n",
    "\n",
    "avg_hours.mean(axis='columns')\n",
    "avg_hours['Sleep Hours Total'] = sleep_time['Sleep End Local'] - sleep_time['Sleep Start Local']\n",
    "\n",
    "avg_hours['Sleep Hours Total'].astype('timedelta64[h]').hvplot.hist(xlabel='Hours', ylabel='Count', title=\"Sleep Hours Total\")"
   ]
  },
  {
   "cell_type": "code",
   "execution_count": null,
   "metadata": {},
   "outputs": [],
   "source": [
    "avg_hours.hvplot.violin(by='index.day')"
   ]
  },
  {
   "cell_type": "code",
   "execution_count": null,
   "metadata": {},
   "outputs": [],
   "source": [
    "df"
   ]
  },
  {
   "cell_type": "code",
   "execution_count": null,
   "metadata": {},
   "outputs": [],
   "source": [
    "# TODO: test out generalized circadian period formulas\n",
    "# Sources: \n",
    "#  - https://www.reddit.com/r/N24/comments/kc5icr/how_to_calculate_length_of_circadian_rhythm/gg575kn/?utm_source=reddit&utm_medium=web2x&context=3\n",
    "#  - https://www.reddit.com/r/N24/comments/q562z2/comment/hg3tkvr/?utm_source=reddit&utm_medium=web2x&context=3\n",
    "#\n",
    "# Generalized formula:\n",
    "# \n",
    "# subjective_day_length = 24 * earth_days / (earth_days - rotations)\n",
    "#                                                       ^\n",
    "#                         Or +, if subjective day shorter than 24 h.\n",
    "\n",
    "# Manual calculation from Social Rhythms Report\n",
    "# \n",
    "earth_day_length = 24\n",
    "# Sept 30th - Sept 5th plus 1 to include Sept. 5th\n",
    "earth_days = (30 - 5) + 1\n",
    "rotations = 1\n",
    "subjective_day_length = 24 * earth_days / (earth_days - rotations)\n",
    "subjective_day_mins = (subjective_day_length - 24 ) * 60\n",
    "(subjective_day_length, subjective_day_mins)\n",
    "\n",
    "# Merlin non-24 watch face settings:\n",
    "# Non24 circadian rhythm hours (18-40) = 24\n",
    "# Non24 circadian rhythm minutes (0-59) = 58\n",
    "# Sync Year = 2021\n",
    "# Sync Month = 9\n",
    "# Sync Day = 29\n",
    "# Sync Hour (1-12) = 11\n",
    "# Sync Minute (0-59) = 37\n",
    "# Sync AM/PM = PM\n",
    "# Apply Daylight Savings (1hr) to Sync Date and Time = True\n",
    "# "
   ]
  },
  {
   "cell_type": "code",
   "execution_count": null,
   "metadata": {},
   "outputs": [],
   "source": [
    "import numpy as np\n",
    "\n",
    "# TODO: Map this to sleep cycle data\n",
    "# Sinusoidal curve fit regression\n",
    "# https://scipy-lectures.org/intro/scipy/auto_examples/plot_curve_fit.html\n",
    "# Seed the random number generator for reproducibility\n",
    "np.random.seed(0)\n",
    "\n",
    "# Random demo example sine data\n",
    "#x_data = np.linspace(0, 12, num=100)\n",
    "#y_data = 2 * np.sin(1.5 * x_data) + np.random.normal(size=100)\n",
    "circadian_phase_points = sleep_time[['Sleep Start Local', 'Deep Sleep Hours', 'Light Sleep Hours']]\n",
    "circadian_phase_points.set_index('Sleep Start Local', sorted=True)\n",
    "\n",
    "#avg_hours.mean(axis='columns')\n",
    "#avg_hours['Sleep Hours Total'] = sleep_time['Sleep End Local'] - sleep_time['Sleep Start Local']\n",
    "\n",
    "#avg_hours['Sleep Hours Total'].astype('timedelta64[h]')\n",
    "\n",
    "# And plot it\n",
    "#import matplotlib.pyplot as plt\n",
    "#plt.figure(figsize=(6, 4))\n",
    "#plt.scatter(x_data, y_data)"
   ]
  },
  {
   "cell_type": "code",
   "execution_count": null,
   "metadata": {},
   "outputs": [],
   "source": [
    "from scipy import optimize\n",
    "\n",
    "def test_func(x, a, b):\n",
    "    return a * np.sin(b * x)\n",
    "\n",
    "params, params_covariance = optimize.curve_fit(test_func, x_data, y_data,\n",
    "                                               p0=[2, 1.5])\n",
    "\n",
    "print(params)"
   ]
  },
  {
   "cell_type": "code",
   "execution_count": null,
   "metadata": {},
   "outputs": [],
   "source": [
    "plt.figure(figsize=(6, 4))\n",
    "plt.scatter(x_data, y_data, label='Data')\n",
    "plt.plot(x_data, test_func(x_data, params[0], params[1]),\n",
    "         label='Fitted function')\n",
    "\n",
    "plt.legend(loc='best')\n",
    "\n",
    "plt.show()"
   ]
  },
  {
   "cell_type": "code",
   "execution_count": null,
   "metadata": {},
   "outputs": [],
   "source": [
    "import pandas as pd\n",
    "from bokeh.plotting import figure, output_notebook, show\n",
    "from bokeh.models import Legend, PrintfTickFormatter\n",
    "from bokeh.models.tickers import FixedTicker\n",
    "\n",
    "# Testing sleep chart from baby tracker thing\n",
    "# TODO: Figure this code out later\n",
    "colors = ['#2D8E65', '#8E2D56']\n",
    "p1 = figure(title=\"Sleep Chart\", plot_width=450, plot_height=165, sizing_mode='scale_width',\n",
    "           x_axis_label='Day', y_axis_label='Time of Day',\n",
    "           x_range=(2.75, 18), y_range=(24,0))\n",
    "sleep = p1.rect(sleepx, sleepy, 1/30, .25, color=colors[0], width_units=\"data\", height_units=\"data\",\n",
    "        muted_color=colors[0], muted_alpha=0.2, line_alpha=0)\n",
    "wake = p1.rect(wakex, wakey, 1/30, .25, color=colors[1], width_units=\"data\", height_units=\"data\",\n",
    "        muted_color=colors[1], muted_alpha=0.2, line_alpha=0)\n",
    "legend = Legend(items=[(\"Sleep\", [sleep]), (\"Wake\", [wake])], orientation=\"horizontal\", click_policy=\"mute\")\n",
    "p1.add_layout(legend, 'below')\n",
    "p1.yaxis[0].formatter = PrintfTickFormatter(format=\"%2f:00\")\n",
    "p1.yaxis.ticker = FixedTicker(ticks=[0, 6, 12, 18, 24])\n",
    "show(p1)"
   ]
  }
 ],
 "metadata": {
  "kernelspec": {
   "display_name": "Python 3 (ipykernel)",
   "language": "python",
   "name": "python3"
  },
  "language_info": {
   "codemirror_mode": {
    "name": "ipython",
    "version": 3
   },
   "file_extension": ".py",
   "mimetype": "text/x-python",
   "name": "python",
   "nbconvert_exporter": "python",
   "pygments_lexer": "ipython3",
   "version": "3.9.7"
  }
 },
 "nbformat": 4,
 "nbformat_minor": 4
}
